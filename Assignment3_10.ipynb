{
  "nbformat": 4,
  "nbformat_minor": 0,
  "metadata": {
    "colab": {
      "provenance": [],
      "collapsed_sections": [],
      "authorship_tag": "ABX9TyPSl3H9Q3s+jCV1ajTIwM9i",
      "include_colab_link": true
    },
    "kernelspec": {
      "name": "python3",
      "display_name": "Python 3"
    },
    "language_info": {
      "name": "python"
    }
  },
  "cells": [
    {
      "cell_type": "markdown",
      "metadata": {
        "id": "view-in-github",
        "colab_type": "text"
      },
      "source": [
        "<a href=\"https://colab.research.google.com/github/Avyay123/Python101-1/blob/main/Assignment3_10.ipynb\" target=\"_parent\"><img src=\"https://colab.research.google.com/assets/colab-badge.svg\" alt=\"Open In Colab\"/></a>"
      ]
    },
    {
      "cell_type": "code",
      "execution_count": 14,
      "metadata": {
        "colab": {
          "base_uri": "https://localhost:8080/"
        },
        "id": "NmXTwraDY6V2",
        "outputId": "6da82955-4c89-46e6-f547-5d8b967a32fb"
      },
      "outputs": [
        {
          "output_type": "stream",
          "name": "stdout",
          "text": [
            "Using a combination of pennies, nickels, dimes, and quarters, try to create a combination of coins that will form 1 dollar.\n",
            "How many pennies would you like to use?10\n",
            "How many nickels would you like to use?2\n",
            "How many dimes would you like to use?3\n",
            "How many quarters would you like to use?2\n",
            "Congratulations! You made one dollar\n"
          ]
        }
      ],
      "source": [
        "print(\"Using a combination of pennies, nickels, dimes, and quarters, try to create a combination of coins that will form 1 dollar.\")\n",
        "pennies = input(\"How many pennies would you like to use?\")\n",
        "pennies = 0.01*float(pennies)\n",
        "nickels = input(\"How many nickels would you like to use?\")\n",
        "nickels = 0.05*float(nickels)\n",
        "dimes = input(\"How many dimes would you like to use?\")\n",
        "dimes = 0.10*float(dimes)\n",
        "quarters = input(\"How many quarters would you like to use?\")\n",
        "quarters = 0.25*float(quarters)\n",
        "if (pennies + nickels + dimes + quarters == 1):\n",
        "  print(\"Congratulations! You made one dollar\")\n",
        "elif (pennies + nickels + dimes + quarters>1):\n",
        "    print(\"The amount you made was more than one dollar\")\n",
        "else :\n",
        "    print(\"The amount you made was less than one dollar\")\n",
        "\n"
      ]
    },
    {
      "cell_type": "code",
      "source": [],
      "metadata": {
        "id": "U3t2B1oggPx5"
      },
      "execution_count": null,
      "outputs": []
    },
    {
      "cell_type": "markdown",
      "source": [
        "# New Section"
      ],
      "metadata": {
        "id": "ZCgzGhb8feLJ"
      }
    },
    {
      "cell_type": "code",
      "source": [],
      "metadata": {
        "id": "BzQL3WPkcPcg"
      },
      "execution_count": null,
      "outputs": []
    }
  ]
}