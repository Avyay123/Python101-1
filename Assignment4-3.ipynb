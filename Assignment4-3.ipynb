{
  "nbformat": 4,
  "nbformat_minor": 0,
  "metadata": {
    "colab": {
      "provenance": [],
      "authorship_tag": "ABX9TyOXcpPaBrBvYq+KrhjB0rUh",
      "include_colab_link": true
    },
    "kernelspec": {
      "name": "python3",
      "display_name": "Python 3"
    },
    "language_info": {
      "name": "python"
    }
  },
  "cells": [
    {
      "cell_type": "markdown",
      "metadata": {
        "id": "view-in-github",
        "colab_type": "text"
      },
      "source": [
        "<a href=\"https://colab.research.google.com/github/Avyay123/Python101-1/blob/main/Assignment4-3.ipynb\" target=\"_parent\"><img src=\"https://colab.research.google.com/assets/colab-badge.svg\" alt=\"Open In Colab\"/></a>"
      ]
    },
    {
      "cell_type": "code",
      "execution_count": 19,
      "metadata": {
        "colab": {
          "base_uri": "https://localhost:8080/"
        },
        "id": "8VoVLjuViou0",
        "outputId": "79a71c73-8d2e-4410-b805-8e0c4ea5ecbf"
      },
      "outputs": [
        {
          "output_type": "stream",
          "name": "stdout",
          "text": [
            "How much have you budgeted for the entire month?50\n",
            "Today is Day 1\n",
            "How much have you spent today?1\n",
            "Today is Day 2\n",
            "How much have you spent today?1\n",
            "Today is Day 3\n",
            "How much have you spent today?1\n",
            "Today is Day 4\n",
            "How much have you spent today?1\n",
            "Today is Day 5\n",
            "How much have you spent today?1\n",
            "Today is Day 6\n",
            "How much have you spent today?1\n",
            "Today is Day 7\n",
            "How much have you spent today?1\n",
            "Today is Day 8\n",
            "How much have you spent today?1\n",
            "Today is Day 9\n",
            "How much have you spent today?1\n",
            "Today is Day 10\n",
            "How much have you spent today?1\n",
            "Today is Day 11\n",
            "How much have you spent today?1\n",
            "Today is Day 12\n",
            "How much have you spent today?1\n",
            "Today is Day 13\n",
            "How much have you spent today?1\n",
            "Today is Day 14\n",
            "How much have you spent today?1\n",
            "Today is Day 15\n",
            "How much have you spent today?1\n",
            "Today is Day 16\n",
            "How much have you spent today?1\n",
            "Today is Day 17\n",
            "How much have you spent today?1\n",
            "Today is Day 18\n",
            "How much have you spent today?1\n",
            "Today is Day 19\n",
            "How much have you spent today?1\n",
            "Today is Day 20\n",
            "How much have you spent today?1\n",
            "Today is Day 21\n",
            "How much have you spent today?1\n",
            "Today is Day 22\n",
            "How much have you spent today?1\n",
            "Today is Day 23\n",
            "How much have you spent today?1\n",
            "Today is Day 24\n",
            "How much have you spent today?1\n",
            "Today is Day 25\n",
            "How much have you spent today?1\n",
            "Today is Day 26\n",
            "How much have you spent today?1\n",
            "Today is Day 27\n",
            "How much have you spent today?1\n",
            "Today is Day 28\n",
            "How much have you spent today?1\n",
            "Today is Day 29\n",
            "How much have you spent today?1\n",
            "Today is Day 30\n",
            "How much have you spent today?1\n",
            "You are 20 under budget\n"
          ]
        }
      ],
      "source": [
        "day_count = 1\n",
        "Total_Spent = 0\n",
        "Total_Budget = input(\"How much have you budgeted for the entire month?\")\n",
        "Total_Budget=int(Total_Budget)\n",
        "while (day_count<=30):\n",
        "  print(\"Today is Day\", day_count)\n",
        "  Daily_Spent=input(\"How much have you spent today?\")\n",
        "  Daily_Spent=int(Daily_Spent)\n",
        "  Total_Spent=Total_Spent + Daily_Spent\n",
        "  Total_Spent=int(Total_Spent)\n",
        "  day_count=day_count + 1\n",
        "\n",
        "if Total_Spent>=Total_Budget:\n",
        "  print (\"You are\", Total_Spent-Total_Budget, \"over budget\")\n",
        "else :\n",
        "  print (\"You are\", Total_Budget-Total_Spent, \"under budget\")"
      ]
    }
  ]
}