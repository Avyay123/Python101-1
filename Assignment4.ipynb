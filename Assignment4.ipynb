{
  "nbformat": 4,
  "nbformat_minor": 0,
  "metadata": {
    "colab": {
      "provenance": [],
      "authorship_tag": "ABX9TyMWeFScoWBrJTSpBaUM9SIG",
      "include_colab_link": true
    },
    "kernelspec": {
      "name": "python3",
      "display_name": "Python 3"
    },
    "language_info": {
      "name": "python"
    }
  },
  "cells": [
    {
      "cell_type": "markdown",
      "metadata": {
        "id": "view-in-github",
        "colab_type": "text"
      },
      "source": [
        "<a href=\"https://colab.research.google.com/github/Avyay123/Python101-1/blob/main/Assignment4.ipynb\" target=\"_parent\"><img src=\"https://colab.research.google.com/assets/colab-badge.svg\" alt=\"Open In Colab\"/></a>"
      ]
    },
    {
      "cell_type": "code",
      "source": [
        "#Assignment 4.3\n",
        "day_count = 1\n",
        "Total_Spent = 0\n",
        "Total_Budget = input(\"How much have you budgeted for the entire month?\")\n",
        "Total_Budget=int(Total_Budget)\n",
        "while (day_count<=30):\n",
        "  print(\"Today is Day\", day_count)\n",
        "  Daily_Spent=input(\"How much have you spent today?\")\n",
        "  Daily_Spent=int(Daily_Spent)\n",
        "  Total_Spent=Total_Spent + Daily_Spent\n",
        "  Total_Spent=int(Total_Spent)\n",
        "  day_count=day_count + 1\n",
        "\n",
        "if Total_Spent>=Total_Budget:\n",
        "  print (\"You are\", Total_Spent-Total_Budget, \"over budget\")\n",
        "else :\n",
        "  print (\"You are\", Total_Budget-Total_Spent, \"under budget\")"
      ],
      "metadata": {
        "id": "D_mNwI__naA3"
      },
      "execution_count": null,
      "outputs": []
    },
    {
      "cell_type": "code",
      "source": [
        "#Assignment 4.4\n",
        "Vehicle_Speed = input(\"What is the speed of the vehicle in mph?\")\n",
        "Travel_Time = input(\"How many hours has it traveled?\")\n",
        "Vehicle_Speed=float(Vehicle_Speed)\n",
        "Travel_Time=float(Travel_Time)\n",
        "Chart_Time = 1\n",
        "print(\"Hour Distance Traveled\")\n",
        "while (Chart_Time<=Travel_Time):\n",
        "  print(Chart_Time, Vehicle_Speed*Chart_Time)\n",
        "  Chart_Time=Chart_Time+1"
      ],
      "metadata": {
        "colab": {
          "base_uri": "https://localhost:8080/"
        },
        "id": "9ndBwqrQnvR8",
        "outputId": "072de8c1-4322-4ca6-eab1-d8813969b537"
      },
      "execution_count": 5,
      "outputs": [
        {
          "output_type": "stream",
          "name": "stdout",
          "text": [
            "What is the speed of the vehicle in mph?30\n",
            "How many hours has it traveled?3\n",
            "Hour Distance Traveled\n",
            "1 30.0\n",
            "2 60.0\n",
            "3 90.0\n"
          ]
        }
      ]
    },
    {
      "cell_type": "code",
      "source": [
        "#Assignment 4.6\n",
        "C=0\n",
        "print(\"Celsius to Fahrenheit\")\n",
        "while (C<=20):\n",
        "  print(C,\"to\",1.8*C+32)\n",
        "  C=C+1"
      ],
      "metadata": {
        "colab": {
          "base_uri": "https://localhost:8080/"
        },
        "id": "0R0UA_cRpmRw",
        "outputId": "eccd3974-9a79-47aa-f256-6211c88b3b81"
      },
      "execution_count": 10,
      "outputs": [
        {
          "output_type": "stream",
          "name": "stdout",
          "text": [
            "Celsius to Fahrenheit\n",
            "0 to 32.0\n",
            "1 to 33.8\n",
            "2 to 35.6\n",
            "3 to 37.4\n",
            "4 to 39.2\n",
            "5 to 41.0\n",
            "6 to 42.8\n",
            "7 to 44.6\n",
            "8 to 46.4\n",
            "9 to 48.2\n",
            "10 to 50.0\n",
            "11 to 51.8\n",
            "12 to 53.6\n",
            "13 to 55.400000000000006\n",
            "14 to 57.2\n",
            "15 to 59.0\n",
            "16 to 60.8\n",
            "17 to 62.6\n",
            "18 to 64.4\n",
            "19 to 66.2\n",
            "20 to 68.0\n"
          ]
        }
      ]
    }
  ]
}