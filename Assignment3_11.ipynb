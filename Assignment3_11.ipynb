{
  "nbformat": 4,
  "nbformat_minor": 0,
  "metadata": {
    "colab": {
      "provenance": [],
      "collapsed_sections": [],
      "authorship_tag": "ABX9TyMDasPzz5aK8k/ahLHeabjq",
      "include_colab_link": true
    },
    "kernelspec": {
      "name": "python3",
      "display_name": "Python 3"
    },
    "language_info": {
      "name": "python"
    }
  },
  "cells": [
    {
      "cell_type": "markdown",
      "metadata": {
        "id": "view-in-github",
        "colab_type": "text"
      },
      "source": [
        "<a href=\"https://colab.research.google.com/github/Avyay123/Python101-1/blob/main/Assignment3_11.ipynb\" target=\"_parent\"><img src=\"https://colab.research.google.com/assets/colab-badge.svg\" alt=\"Open In Colab\"/></a>"
      ]
    },
    {
      "cell_type": "code",
      "execution_count": 18,
      "metadata": {
        "colab": {
          "base_uri": "https://localhost:8080/"
        },
        "id": "NmXTwraDY6V2",
        "outputId": "0b88b69a-21fc-4851-fb22-e6351be84016"
      },
      "outputs": [
        {
          "output_type": "stream",
          "name": "stdout",
          "text": [
            "How many books have you purchased this month?6\n",
            "You earned 30 points.\n"
          ]
        }
      ],
      "source": [
        "books = input(\"How many books have you purchased this month?\")\n",
        "books = float(books)\n",
        "if (books<2):\n",
        "  print(\"You earned 0 points.\")\n",
        "elif (books<4):\n",
        "  print(\"You earned 5 points.\")\n",
        "elif (books<6):\n",
        "  print(\"You earned 15 points.\")\n",
        "elif (books<8):\n",
        "  print(\"You earned 30 points.\")\n",
        "else:\n",
        "  print(\"You earned 60 points.\")"
      ]
    },
    {
      "cell_type": "code",
      "source": [],
      "metadata": {
        "id": "U3t2B1oggPx5"
      },
      "execution_count": null,
      "outputs": []
    },
    {
      "cell_type": "markdown",
      "source": [
        "# New Section"
      ],
      "metadata": {
        "id": "ZCgzGhb8feLJ"
      }
    },
    {
      "cell_type": "code",
      "source": [],
      "metadata": {
        "id": "BzQL3WPkcPcg"
      },
      "execution_count": null,
      "outputs": []
    }
  ]
}