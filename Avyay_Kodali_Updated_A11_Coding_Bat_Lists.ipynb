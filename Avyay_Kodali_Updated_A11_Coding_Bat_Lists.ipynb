{
  "nbformat": 4,
  "nbformat_minor": 0,
  "metadata": {
    "colab": {
      "provenance": [],
      "toc_visible": true,
      "include_colab_link": true
    },
    "kernelspec": {
      "name": "python3",
      "display_name": "Python 3"
    },
    "language_info": {
      "name": "python"
    }
  },
  "cells": [
    {
      "cell_type": "markdown",
      "metadata": {
        "id": "view-in-github",
        "colab_type": "text"
      },
      "source": [
        "<a href=\"https://colab.research.google.com/github/Avyay123/Python101-1/blob/main/Avyay_Kodali_Updated_A11_Coding_Bat_Lists.ipynb\" target=\"_parent\"><img src=\"https://colab.research.google.com/assets/colab-badge.svg\" alt=\"Open In Colab\"/></a>"
      ]
    },
    {
      "cell_type": "markdown",
      "source": [
        "# Python 101: Python Programming with Dr. Jasthi\n",
        "Assignment 11 (Coding Bat: List Problems)\n",
        "\n",
        "Instructions:\n",
        "\n",
        "1. Click on the link given in each problem.\n",
        "2. Solve the problem at codingbat.com\n",
        "3. Ensure that all the test cases are passing there.\n",
        "4. Copy the final code into the google colab notebook\n",
        "5. Each problem is worth 1 point and there are 10 problems.\n",
        "6. You can also attempt (sum13) problem for an extra credit of 5 points\n"
      ],
      "metadata": {
        "id": "cQy_GF2mcHR8"
      }
    },
    {
      "cell_type": "code",
      "source": [
        "#@title 0. Middle Elements (Example) ( https://codingbat.com/prob/p171011)\n",
        "# Instructor will solve and show this problem to show the process\n",
        "\n",
        "def middle_way(a, b):\n",
        "    return [a[1], b[1]]\n",
        "\n",
        "# Testing\n",
        "print(middle_way([1, 2, 3], [4, 5, 6])) # → [2, 5]\n",
        "print(middle_way([7, 7, 7], [3, 8, 0])) # → [7, 8]\n",
        "print(middle_way([5, 2, 9], [1, 4, 5])) # → [2, 4]\n"
      ],
      "metadata": {
        "id": "EL1SvMAGh5UN",
        "colab": {
          "base_uri": "https://localhost:8080/"
        },
        "outputId": "b08ae8d7-a525-4b02-86a8-2dc2e99ab082"
      },
      "execution_count": 2,
      "outputs": [
        {
          "output_type": "stream",
          "name": "stdout",
          "text": [
            "[2, 5]\n",
            "[7, 8]\n",
            "[2, 4]\n"
          ]
        }
      ]
    },
    {
      "cell_type": "code",
      "source": [
        "#@title 1. Common End  ( https://codingbat.com/prob/p147755 )\n",
        "# Solve the problem and paste the code here\n",
        "def common_end(a, b):\n",
        "    return a[0] == b[0] or a[-1] == b[-1]\n",
        "\n",
        "\n",
        "# Testing\n",
        "\n",
        "# True\n",
        "print(common_end([1, 2, 3], [7, 3])) \n",
        "\n",
        "# False\n",
        "print(common_end([1, 2, 3], [7, 3, 2])) \n",
        "\n",
        "# True\n",
        "print(common_end([1, 2, 3], [1, 3])) "
      ],
      "metadata": {
        "id": "41L2HdFXd8nF",
        "colab": {
          "base_uri": "https://localhost:8080/"
        },
        "outputId": "85e39665-b510-41db-cf9a-af1717e7fe34"
      },
      "execution_count": 3,
      "outputs": [
        {
          "output_type": "stream",
          "name": "stdout",
          "text": [
            "True\n",
            "False\n",
            "True\n"
          ]
        }
      ]
    },
    {
      "cell_type": "code",
      "source": [
        "#@title 2. Sum 3  ( https://codingbat.com/prob/p191645 )\n",
        "# Solve the problem and paste the code here\n",
        "def sum3(nums):\n",
        "  return sum(nums)\n",
        "\n",
        "\n",
        "# Testing\n",
        "\n",
        "# 6\n",
        "print(sum3([1, 2, 3])) \n",
        "\n",
        "# 18\n",
        "print(sum3([5, 11, 2])) \n",
        "\n",
        "# 7\n",
        "print(sum3([7, 0, 0])) "
      ],
      "metadata": {
        "id": "TkagmaBXcsQx",
        "colab": {
          "base_uri": "https://localhost:8080/"
        },
        "outputId": "05407046-6af6-4edb-9291-4750377b3eca"
      },
      "execution_count": 4,
      "outputs": [
        {
          "output_type": "stream",
          "name": "stdout",
          "text": [
            "6\n",
            "18\n",
            "7\n"
          ]
        }
      ]
    },
    {
      "cell_type": "code",
      "source": [
        "#@title 3. rotate_left3  ( https://codingbat.com/prob/p148661 )\n",
        "# Solve the problem and paste the code here\n",
        "\n",
        "def rotate_left3(nums):\n",
        " return nums[1:] + nums[0:1]\n",
        "\n",
        "# Testing\n",
        "\n",
        "# [2, 3, 1]\n",
        "print(rotate_left3([1, 2, 3])) \n",
        "\n",
        "# [11, 9, 5]\n",
        "print(rotate_left3([5, 11, 9]))\n",
        "\n",
        "# [0, 0, 7]\n",
        "print(rotate_left3([7, 0, 0])) "
      ],
      "metadata": {
        "id": "ZeqsHP7BeNJv",
        "colab": {
          "base_uri": "https://localhost:8080/"
        },
        "outputId": "fff178e2-d627-40ac-d586-eda0026270eb"
      },
      "execution_count": 8,
      "outputs": [
        {
          "output_type": "stream",
          "name": "stdout",
          "text": [
            "[2, 3, 1]\n",
            "[11, 9, 5]\n",
            "[0, 0, 7]\n"
          ]
        }
      ]
    },
    {
      "cell_type": "code",
      "source": [
        "#@title 4. reverse 3  ( https://codingbat.com/prob/p192962 )\n",
        "# Solve the problem and paste the code here\n",
        "\n",
        "def reverse3(nums):\n",
        "    return nums[::-1]\n",
        "\n",
        "# Testing\n",
        "\n",
        "# [3, 2, 1]\n",
        "print(reverse3([1, 2, 3]))\n",
        "\n",
        "# [9, 11, 5]\n",
        "print(reverse3([5, 11, 9]))\n",
        "\n",
        "# [0, 0, 7]\n",
        "print(reverse3([7, 0, 0]))"
      ],
      "metadata": {
        "id": "1hBNOuw0ebIv",
        "colab": {
          "base_uri": "https://localhost:8080/"
        },
        "outputId": "3dde15de-5147-4551-fe9a-740d19dc5fbe"
      },
      "execution_count": 11,
      "outputs": [
        {
          "output_type": "stream",
          "name": "stdout",
          "text": [
            "[3, 2, 1]\n",
            "[9, 11, 5]\n",
            "[0, 0, 7]\n"
          ]
        }
      ]
    },
    {
      "cell_type": "code",
      "source": [
        "#@title 5. max_end3  ( https://codingbat.com/prob/p135290 )\n",
        "# Solve the problem and paste the code here\n",
        "\n",
        "def max_end3(nums):\n",
        "    m = max(nums[0], nums[2])\n",
        "    nums[0] = m\n",
        "    nums[1] = m\n",
        "    nums[2] = m\n",
        "    return nums\n",
        "\n",
        "# Testing\n",
        "\n",
        "# [3, 3, 3]\n",
        "print(max_end3([1, 2, 3]))\n",
        "\n",
        "# [11, 11, 11]\n",
        "print(max_end3([11, 5, 9]))\n",
        "\n",
        "# [3, 3, 3]\n",
        "print(max_end3([2, 11, 3]))"
      ],
      "metadata": {
        "id": "OUIoWGQQewbA",
        "colab": {
          "base_uri": "https://localhost:8080/"
        },
        "outputId": "08e547e9-f40e-40f5-ed87-bb0b9228f8bc"
      },
      "execution_count": 19,
      "outputs": [
        {
          "output_type": "stream",
          "name": "stdout",
          "text": [
            "[3, 3, 3]\n",
            "[11, 11, 11]\n",
            "[3, 3, 3]\n"
          ]
        }
      ]
    },
    {
      "cell_type": "code",
      "source": [
        "#@title 6. sum2  ( https://codingbat.com/prob/p192589 )\n",
        "# Solve the problem and paste the code here\n",
        "\n",
        "def sum2(nums):\n",
        "    if len(nums) < 2:\n",
        "        return sum(nums)\n",
        "          \n",
        "    return nums[0] + nums[1]\n",
        "\n",
        "# Testing\n",
        "\n",
        "# 3\n",
        "print(sum2([1, 2, 3]))\n",
        "\n",
        "# 2\n",
        "print(sum2([1, 1]))\n",
        "\n",
        "# 2\n",
        "print(sum2([1, 1, 1, 1]))"
      ],
      "metadata": {
        "id": "X2mtj_voewmC",
        "colab": {
          "base_uri": "https://localhost:8080/"
        },
        "outputId": "9bb44970-2832-457d-f3a1-f60abc53af11"
      },
      "execution_count": 18,
      "outputs": [
        {
          "output_type": "stream",
          "name": "stdout",
          "text": [
            "3\n",
            "2\n",
            "2\n"
          ]
        }
      ]
    },
    {
      "cell_type": "code",
      "source": [
        "#@title 7. make ends  ( https://codingbat.com/prob/p124806 )\n",
        "# Solve the problem and paste the code here\n",
        "\n",
        "def make_ends(nums):\n",
        "  return [nums[0], nums[-1]]\n",
        "\n",
        "# Testing\n",
        "\n",
        "# [1, 3]\n",
        "print(make_ends([1, 2, 3]))\n",
        "\n",
        "# [1, 4]\n",
        "print(make_ends([1, 2, 3, 4]))\n",
        "\n",
        "# [7, 2]\n",
        "print(make_ends([7, 4, 6, 2]))"
      ],
      "metadata": {
        "id": "GfgyB0Opewzm"
      },
      "execution_count": null,
      "outputs": []
    },
    {
      "cell_type": "code",
      "source": [
        "#@title 8. Big Difference  ( https://codingbat.com/prob/p184853 )\n",
        "# Solve the problem and paste the code here\n",
        "\n",
        "def big_diff(nums):\n",
        "    minimum = nums[0]\n",
        "    maximum = nums[0]\n",
        "      \n",
        "    for i in range(1,len(nums)):\n",
        "        minimum = min(minimum, nums[i])\n",
        "        maximum = max(maximum, nums[i])\n",
        "                    \n",
        "    return maximum - minimum\n",
        "\n",
        "# Testing\n",
        "\n",
        "# 7\n",
        "print(big_diff([10, 3, 5, 6]))\n",
        "\n",
        "# 8\n",
        "print(big_diff([7, 2, 10, 9]))\n",
        "\n",
        "# 8\n",
        "print(big_diff([2, 10, 7, 2]))"
      ],
      "metadata": {
        "id": "91SlUdjFcwUx",
        "colab": {
          "base_uri": "https://localhost:8080/"
        },
        "outputId": "0b6b46a7-4ced-49d2-81ab-838d8c153df1"
      },
      "execution_count": 20,
      "outputs": [
        {
          "output_type": "stream",
          "name": "stdout",
          "text": [
            "7\n",
            "8\n",
            "8\n"
          ]
        }
      ]
    },
    {
      "cell_type": "code",
      "source": [
        "#@title 9. Centered Average  ( https://codingbat.com/prob/p126968 )\n",
        "# Solve the problem and paste the code here\n",
        "\n",
        "def centered_average(nums):\n",
        "    return (sum(nums) - max(nums) - min(nums)) / (len(nums) - 2)\n",
        "\n",
        "# Testing\n",
        "\n",
        "# 3\n",
        "print(centered_average([1, 2, 3, 4, 100]))\n",
        "\n",
        "# 5\n",
        "print(centered_average([1, 1, 5, 5, 10, 8, 7]))\n",
        "\n",
        "# -3\n",
        "print(centered_average([-10, -4, -2, -4, -2, 0]))"
      ],
      "metadata": {
        "id": "uhSosg_xc9s8",
        "colab": {
          "base_uri": "https://localhost:8080/"
        },
        "outputId": "84bcc326-7933-463d-f537-b1695f1a31d7"
      },
      "execution_count": 21,
      "outputs": [
        {
          "output_type": "stream",
          "name": "stdout",
          "text": [
            "3.0\n",
            "5.2\n",
            "-3.0\n"
          ]
        }
      ]
    },
    {
      "cell_type": "code",
      "source": [
        "#@title 10. Has 22  ( https://codingbat.com/prob/p119308 )\n",
        "# Solve the problem and paste the code here\n",
        "\n",
        "def has22(nums):\n",
        "    for i in range(len(nums)-1):\n",
        "        if nums[i] == 2 and nums[i+1] == 2:\n",
        "            return True\n",
        "                  \n",
        "    return False\n",
        "# Testing\n",
        "\n",
        "# True\n",
        "print(has22([1, 2, 2]))\n",
        "\n",
        "# False\n",
        "print(has22([1, 2, 1, 2]))\n",
        "\n",
        "# False\n",
        "print(has22([2, 1, 2]))"
      ],
      "metadata": {
        "id": "pH59bElYdcYv",
        "colab": {
          "base_uri": "https://localhost:8080/"
        },
        "outputId": "1098d551-deef-4904-fef3-daab2dcaf9ce"
      },
      "execution_count": 22,
      "outputs": [
        {
          "output_type": "stream",
          "name": "stdout",
          "text": [
            "True\n",
            "False\n",
            "False\n"
          ]
        }
      ]
    },
    {
      "cell_type": "markdown",
      "source": [
        "# Extra Credit (5 Points)\n",
        "### Solve this problem 11 only after you solved all the above 10 basic problems"
      ],
      "metadata": {
        "id": "ATKAUuJrfpiB"
      }
    },
    {
      "cell_type": "code",
      "source": [
        "#@title 11. Sum 13 problem  ( https://codingbat.com/prob/p167025 )\n",
        "# Solve the problem and paste the code here\n",
        "\n",
        "\n",
        "# Testing\n",
        "\n",
        "# 6\n",
        "print(sum13([1, 2, 2, 1]))\n",
        "\n",
        "# 2\n",
        "print(sum13([1, 1]))\n",
        "\n",
        "# 6\n",
        "print(sum13([1, 2, 2, 1, 13]))"
      ],
      "metadata": {
        "id": "7AiLZTMSdJQ-"
      },
      "execution_count": null,
      "outputs": []
    }
  ]
}